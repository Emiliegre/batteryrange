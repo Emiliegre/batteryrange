{
 "cells": [
  {
   "cell_type": "code",
   "execution_count": 17,
   "id": "bd81211c",
   "metadata": {},
   "outputs": [
    {
     "data": {
      "application/vnd.jupyter.widget-view+json": {
       "model_id": "edddbe24e53c4689953cc808c10dbf4a",
       "version_major": 2,
       "version_minor": 0
      },
      "text/plain": [
       "interactive(children=(IntSlider(value=5, description='Speed', max=15, min=5), FloatSlider(value=1.0, descripti…"
      ]
     },
     "metadata": {},
     "output_type": "display_data"
    }
   ],
   "source": [
    "import pandas as pd\n",
    "import matplotlib.pyplot as plt\n",
    "import numpy as np\n",
    "import ipywidgets as widgets\n",
    "from ipywidgets import interactive\n",
    "\n",
    "# Define a function to update the plot based on the selected speed and multiplier\n",
    "def update_plot(speed, multiplier):\n",
    "    # Load the XLSX file based on the selected speed\n",
    "    file_name = f\"batteryrange_{speed}.xlsx\"\n",
    "    df = pd.read_excel(file_name)\n",
    "    \n",
    "    # DWT of the ship Kvitbjorn in tons\n",
    "    dwt = 4900 \n",
    "\n",
    "    # Create a matrix (2D array) from the DataFrame\n",
    "    matrix = df.values\n",
    "\n",
    "    # Calculate the modified matrix to find the length the ship can sail with a\n",
    "    \n",
    "    modified_matrix = ((multiplier/100)* dwt * speed * 1.852) / ( (8.9*10**(-3)) * matrix * 2)\n",
    "\n",
    "    # Create a heatmap-style matrix plot using matplotlib\n",
    "    plt.figure(figsize=(12, 12))\n",
    "    plt.imshow(modified_matrix, cmap='coolwarm', aspect='auto')\n",
    "\n",
    "    # Add text annotations Ato the cells in the matrix\n",
    "    for i in range(len(df.index)):\n",
    "        for j in range(len(df.columns)):\n",
    "            plt.text(j, i, f'{modified_matrix[i, j]:.2f}', ha='center', va='center', color='white')\n",
    "\n",
    "    # Set the x-axis ticks and labels\n",
    "    x_values = np.arange(4, 4 + len(df.columns))\n",
    "    plt.xticks(range(len(x_values)), x_values)\n",
    "\n",
    "    # Set the y-axis ticks and labels to match the rows in the matrix\n",
    "    y_values = np.arange( len(df.index), 0, -1)\n",
    "    plt.yticks(range(len(y_values)), y_values)\n",
    "\n",
    "    plt.colorbar()\n",
    "    plt.title(f\"Range of batteryship (Speed {speed} knots) - Percentage of dwt: {multiplier} %\")\n",
    "    plt.xlabel(\"Tp\")\n",
    "    plt.ylabel(\"Hs\")\n",
    "    plt.show()\n",
    "\n",
    "# Create a slider widget for speed\n",
    "speed_slider = widgets.IntSlider(value=5, min=5, max=15, step=1, description='Speed')\n",
    "\n",
    "# Create a slider widget for the multiplier\n",
    "multiplier_slider = widgets.FloatSlider(value=1.0, min=1.0, max=50.0, step=1.0, description='% of dwt')\n",
    "\n",
    "# Create an interactive plot with both sliders\n",
    "interactive_plot = interactive(update_plot, speed=speed_slider, multiplier=multiplier_slider)\n",
    "\n",
    "# Display the interactive plot\n",
    "output = interactive_plot.children[-1]\n",
    "output.layout.height = '500px'\n",
    "interactive_plot\n",
    "\n",
    "\n",
    "\n"
   ]
  },
  {
   "cell_type": "code",
   "execution_count": null,
   "id": "a6a06f13",
   "metadata": {},
   "outputs": [],
   "source": []
  }
 ],
 "metadata": {
  "kernelspec": {
   "display_name": "Python 3 (ipykernel)",
   "language": "python",
   "name": "python3"
  },
  "language_info": {
   "codemirror_mode": {
    "name": "ipython",
    "version": 3
   },
   "file_extension": ".py",
   "mimetype": "text/x-python",
   "name": "python",
   "nbconvert_exporter": "python",
   "pygments_lexer": "ipython3",
   "version": "3.9.12"
  }
 },
 "nbformat": 4,
 "nbformat_minor": 5
}
